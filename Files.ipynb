{
 "cells": [
  {
   "cell_type": "markdown",
   "metadata": {
    "id": "49tjLeuBe6B3"
   },
   "source": [
    "# Python - working with Files"
   ]
  },
  {
   "cell_type": "markdown",
   "metadata": {
    "id": "Obzx7bhyfAJ4"
   },
   "source": [
    "© Advanced Analytics, Amir Ben Haim, 2024"
   ]
  },
  {
   "cell_type": "markdown",
   "metadata": {
    "id": "6Tcck9xfYBwm"
   },
   "source": [
    "Python uses file objects to interact with external files on your computer.\n",
    "\n",
    "These file objects can be any sort of file you have on your computer, whether it be an audio file, a text file, emails, Excel documents, etc.\n",
    "<br>Note: You will probably need to install certain libraries or modules to interact with those various file types, but they are easily available."
   ]
  },
  {
   "cell_type": "code",
   "execution_count": null,
   "metadata": {},
   "outputs": [],
   "source": [
    "'witty'"
   ]
  },
  {
   "cell_type": "code",
   "execution_count": null,
   "metadata": {},
   "outputs": [],
   "source": []
  }
 ],
 "metadata": {
  "colab": {
   "provenance": []
  },
  "kernelspec": {
   "display_name": "Python 3",
   "language": "python",
   "name": "python3"
  },
  "language_info": {
   "codemirror_mode": {
    "name": "ipython",
    "version": 3
   },
   "file_extension": ".py",
   "mimetype": "text/x-python",
   "name": "python",
   "nbconvert_exporter": "python",
   "pygments_lexer": "ipython3",
   "version": "3.12.7"
  }
 },
 "nbformat": 4,
 "nbformat_minor": 0
}
